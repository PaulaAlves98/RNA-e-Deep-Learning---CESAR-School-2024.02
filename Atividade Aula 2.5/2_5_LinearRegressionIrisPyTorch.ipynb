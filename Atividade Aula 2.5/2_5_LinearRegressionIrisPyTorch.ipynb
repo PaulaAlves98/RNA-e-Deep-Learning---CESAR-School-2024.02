{
  "cells": [
    {
      "cell_type": "markdown",
      "metadata": {
        "id": "4PHBzchPHif1"
      },
      "source": [
        "# Regressão Linear com PyTorch"
      ]
    },
    {
      "cell_type": "markdown",
      "metadata": {
        "id": "GujG54RVHif3"
      },
      "source": [
        "## Objetivo"
      ]
    },
    {
      "cell_type": "markdown",
      "metadata": {
        "id": "GGxcJJDOHif4"
      },
      "source": [
        "Este exemplo utiliza regressão linear para estimar o comprimento das sépalas da íris a partir do seu comprimento das pétalas.\n",
        "Utiliza-se\n",
        "- o cálculo do gradiente automático do PyTorch, porém\n",
        "- a função de perda e\n",
        "- atualização dos parâmetros é feita de forma explícita.\n",
        "- A rede é criada com uma camada nn.Linear()"
      ]
    },
    {
      "cell_type": "markdown",
      "metadata": {
        "id": "6Q1aL4eOHif5"
      },
      "source": [
        "![alt text](https://raw.githubusercontent.com/vcasadei/images/master/RegressaoLinear_Otimizacao.png)"
      ]
    },
    {
      "cell_type": "markdown",
      "metadata": {
        "id": "D-OH95H9Hif6"
      },
      "source": [
        "## Importação dos pacotes"
      ]
    },
    {
      "cell_type": "code",
      "execution_count": null,
      "metadata": {
        "ExecuteTime": {
          "end_time": "2017-11-23T23:50:37.321471Z",
          "start_time": "2017-11-23T23:50:35.620908Z"
        },
        "colab": {
          "base_uri": "https://localhost:8080/"
        },
        "id": "Rwd6UgfSHif8",
        "outputId": "16e339d9-40e0-48c3-c94c-a619a20cb09c"
      },
      "outputs": [
        {
          "output_type": "execute_result",
          "data": {
            "text/plain": [
              "<torch._C.Generator at 0x787b1c296ed0>"
            ]
          },
          "metadata": {},
          "execution_count": 34
        }
      ],
      "source": [
        "%matplotlib inline\n",
        "import matplotlib.pyplot as plt\n",
        "\n",
        "import numpy as np\n",
        "from sklearn.datasets import load_iris\n",
        "\n",
        "import torch\n",
        "from torch import nn, optim\n",
        "from torch.autograd import Variable\n",
        "\n",
        "torch.manual_seed(1234)"
      ]
    },
    {
      "cell_type": "markdown",
      "metadata": {
        "id": "tM6s6TDZHigH"
      },
      "source": [
        "## Leitura dos dados"
      ]
    },
    {
      "cell_type": "code",
      "execution_count": null,
      "metadata": {
        "ExecuteTime": {
          "end_time": "2017-11-23T23:50:37.352459Z",
          "start_time": "2017-11-23T23:50:37.324344Z"
        },
        "colab": {
          "base_uri": "https://localhost:8080/"
        },
        "id": "e4YFUL0MHigI",
        "outputId": "265806a2-bdf9-4ccb-ec9e-862c95d246ea"
      },
      "outputs": [
        {
          "output_type": "stream",
          "name": "stdout",
          "text": [
            "x_train.shape: (50, 1) float32\n",
            "y_train.shape: (50, 1) float32\n",
            "x_train[:5]:\n",
            " [[7. ]\n",
            " [6.4]\n",
            " [6.9]\n",
            " [5.5]\n",
            " [6.5]]\n",
            "y_train[:5]:\n",
            " [[4.7]\n",
            " [4.5]\n",
            " [4.9]\n",
            " [4. ]\n",
            " [4.6]]\n"
          ]
        }
      ],
      "source": [
        "iris = load_iris()\n",
        "data = iris.data[iris.target==1,::2]  # comprimento das sépalas e pétalas, indices 0 e 2\n",
        "\n",
        "x_train = data[:,0:1].astype(np.float32)\n",
        "y_train = data[:,1:2].astype(np.float32)\n",
        "\n",
        "n_samples = x_train.shape[0]\n",
        "print('x_train.shape:',x_train.shape, x_train.dtype)\n",
        "print('y_train.shape:',y_train.shape, y_train.dtype)\n",
        "\n",
        "print('x_train[:5]:\\n', x_train[:5])\n",
        "print('y_train[:5]:\\n', y_train[:5])"
      ]
    },
    {
      "cell_type": "markdown",
      "metadata": {
        "id": "KiBZegbaHigL"
      },
      "source": [
        "### Normalização dos dados"
      ]
    },
    {
      "cell_type": "code",
      "execution_count": null,
      "metadata": {
        "ExecuteTime": {
          "end_time": "2017-11-23T23:50:37.369738Z",
          "start_time": "2017-11-23T23:50:37.355827Z"
        },
        "id": "LXJmFubQHigN"
      },
      "outputs": [],
      "source": [
        "x_train -= x_train.min()\n",
        "x_train /= x_train.max()\n",
        "y_train -= y_train.min()\n",
        "y_train /= y_train.max()\n"
      ]
    },
    {
      "cell_type": "code",
      "execution_count": null,
      "metadata": {
        "colab": {
          "base_uri": "https://localhost:8080/"
        },
        "id": "nYq87NbdHxZF",
        "outputId": "9b92b638-d6a6-432d-b257-ca94b9858f6a"
      },
      "outputs": [
        {
          "output_type": "stream",
          "name": "stdout",
          "text": [
            "x_train[:5]:\n",
            " [[1.        ]\n",
            " [0.71428573]\n",
            " [0.952381  ]\n",
            " [0.28571424]\n",
            " [0.7619048 ]]\n",
            "y_train[:5]:\n",
            " [[0.80952376]\n",
            " [0.71428573]\n",
            " [0.90476197]\n",
            " [0.4761905 ]\n",
            " [0.7619048 ]]\n"
          ]
        }
      ],
      "source": [
        "print('x_train[:5]:\\n', x_train[:5])\n",
        "print('y_train[:5]:\\n', y_train[:5])"
      ]
    },
    {
      "cell_type": "code",
      "execution_count": null,
      "metadata": {
        "ExecuteTime": {
          "end_time": "2017-11-23T23:50:37.381683Z",
          "start_time": "2017-11-23T23:50:37.375245Z"
        },
        "id": "epxtUveAHigP"
      },
      "outputs": [],
      "source": [
        "x_train_bias = np.hstack([np.ones(shape=(n_samples,1)), x_train])"
      ]
    },
    {
      "cell_type": "code",
      "execution_count": null,
      "metadata": {
        "colab": {
          "base_uri": "https://localhost:8080/"
        },
        "id": "AgObmWFjH5x7",
        "outputId": "a39a3524-7160-4ea0-8f62-86f8650327cb"
      },
      "outputs": [
        {
          "output_type": "execute_result",
          "data": {
            "text/plain": [
              "array([[1.        , 1.        ],\n",
              "       [1.        , 0.71428573],\n",
              "       [1.        , 0.95238101],\n",
              "       [1.        , 0.28571424],\n",
              "       [1.        , 0.76190478],\n",
              "       [1.        , 0.38095227],\n",
              "       [1.        , 0.66666675],\n",
              "       [1.        , 0.        ],\n",
              "       [1.        , 0.80952376],\n",
              "       [1.        , 0.14285702],\n",
              "       [1.        , 0.047619  ],\n",
              "       [1.        , 0.47619051],\n",
              "       [1.        , 0.52380949],\n",
              "       [1.        , 0.57142848],\n",
              "       [1.        , 0.33333325],\n",
              "       [1.        , 0.85714275],\n",
              "       [1.        , 0.33333325],\n",
              "       [1.        , 0.42857149],\n",
              "       [1.        , 0.61904752],\n",
              "       [1.        , 0.33333325],\n",
              "       [1.        , 0.47619051],\n",
              "       [1.        , 0.57142848],\n",
              "       [1.        , 0.66666675],\n",
              "       [1.        , 0.57142848],\n",
              "       [1.        , 0.71428573],\n",
              "       [1.        , 0.80952376],\n",
              "       [1.        , 0.90476197],\n",
              "       [1.        , 0.85714275],\n",
              "       [1.        , 0.52380949],\n",
              "       [1.        , 0.38095227],\n",
              "       [1.        , 0.28571424],\n",
              "       [1.        , 0.28571424],\n",
              "       [1.        , 0.42857149],\n",
              "       [1.        , 0.52380949],\n",
              "       [1.        , 0.23809525],\n",
              "       [1.        , 0.52380949],\n",
              "       [1.        , 0.85714275],\n",
              "       [1.        , 0.66666675],\n",
              "       [1.        , 0.33333325],\n",
              "       [1.        , 0.28571424],\n",
              "       [1.        , 0.28571424],\n",
              "       [1.        , 0.57142848],\n",
              "       [1.        , 0.42857149],\n",
              "       [1.        , 0.047619  ],\n",
              "       [1.        , 0.33333325],\n",
              "       [1.        , 0.38095227],\n",
              "       [1.        , 0.38095227],\n",
              "       [1.        , 0.61904752],\n",
              "       [1.        , 0.09523801],\n",
              "       [1.        , 0.38095227]])"
            ]
          },
          "metadata": {},
          "execution_count": 39
        }
      ],
      "source": [
        "x_train_bias"
      ]
    },
    {
      "cell_type": "code",
      "execution_count": null,
      "metadata": {
        "colab": {
          "base_uri": "https://localhost:8080/"
        },
        "id": "7seVsEbJIHb3",
        "outputId": "a868d73f-dd16-47e1-ad97-030710676c30"
      },
      "outputs": [
        {
          "output_type": "stream",
          "name": "stdout",
          "text": [
            "x_train_bias.shape: (50, 2) float64\n"
          ]
        }
      ],
      "source": [
        "print('x_train_bias.shape:',x_train_bias.shape, x_train_bias.dtype)"
      ]
    },
    {
      "cell_type": "code",
      "execution_count": null,
      "metadata": {
        "ExecuteTime": {
          "end_time": "2017-11-23T23:50:37.396626Z",
          "start_time": "2017-11-23T23:50:37.389139Z"
        },
        "colab": {
          "base_uri": "https://localhost:8080/"
        },
        "id": "3Enuu3LxHigR",
        "outputId": "08f5d2a5-d4b6-481b-c618-08e7241b48fb"
      },
      "outputs": [
        {
          "output_type": "stream",
          "name": "stdout",
          "text": [
            "tensor([[0.8095],\n",
            "        [0.7143],\n",
            "        [0.9048],\n",
            "        [0.4762],\n",
            "        [0.7619],\n",
            "        [0.7143],\n",
            "        [0.8095],\n",
            "        [0.1429],\n",
            "        [0.7619],\n",
            "        [0.4286],\n",
            "        [0.2381],\n",
            "        [0.5714],\n",
            "        [0.4762],\n",
            "        [0.8095],\n",
            "        [0.2857],\n",
            "        [0.6667],\n",
            "        [0.7143],\n",
            "        [0.5238],\n",
            "        [0.7143],\n",
            "        [0.4286],\n",
            "        [0.8571],\n",
            "        [0.4762],\n",
            "        [0.9048],\n",
            "        [0.8095],\n",
            "        [0.6190],\n",
            "        [0.6667],\n",
            "        [0.8571],\n",
            "        [0.9524],\n",
            "        [0.7143],\n",
            "        [0.2381],\n",
            "        [0.3810],\n",
            "        [0.3333],\n",
            "        [0.4286],\n",
            "        [1.0000],\n",
            "        [0.7143],\n",
            "        [0.7143],\n",
            "        [0.8095],\n",
            "        [0.6667],\n",
            "        [0.5238],\n",
            "        [0.4762],\n",
            "        [0.6667],\n",
            "        [0.7619],\n",
            "        [0.4762],\n",
            "        [0.1429],\n",
            "        [0.5714],\n",
            "        [0.5714],\n",
            "        [0.5714],\n",
            "        [0.6190],\n",
            "        [0.0000],\n",
            "        [0.5238]])\n"
          ]
        }
      ],
      "source": [
        "x_train_bias = torch.FloatTensor(x_train_bias)\n",
        "y_train      = torch.FloatTensor(y_train)\n",
        "print(y_train)"
      ]
    },
    {
      "cell_type": "markdown",
      "metadata": {
        "id": "35kUVzdrHigU"
      },
      "source": [
        "## Model"
      ]
    },
    {
      "cell_type": "markdown",
      "metadata": {
        "id": "8nv8uX7uHigU"
      },
      "source": [
        "![alt text](https://raw.githubusercontent.com/vcasadei/images/master/RegressaoLinearNeuronio.png)"
      ]
    },
    {
      "cell_type": "code",
      "execution_count": null,
      "metadata": {
        "ExecuteTime": {
          "end_time": "2017-11-23T23:50:37.403510Z",
          "start_time": "2017-11-23T23:50:37.399234Z"
        },
        "id": "Ngq9EEi8HigV"
      },
      "outputs": [],
      "source": [
        "#Inicialização usando toch.nn.Linear\n",
        "\n",
        "model = torch.nn.Linear(in_features=2, out_features=1, bias=False)"
      ]
    },
    {
      "cell_type": "code",
      "source": [
        "model"
      ],
      "metadata": {
        "colab": {
          "base_uri": "https://localhost:8080/"
        },
        "id": "uHnOrNmJlmAV",
        "outputId": "8b980149-e22f-4d3c-ad35-4fb637380779"
      },
      "execution_count": null,
      "outputs": [
        {
          "output_type": "execute_result",
          "data": {
            "text/plain": [
              "Linear(in_features=2, out_features=1, bias=False)"
            ]
          },
          "metadata": {},
          "execution_count": 43
        }
      ]
    },
    {
      "cell_type": "code",
      "source": [
        "model.weight"
      ],
      "metadata": {
        "colab": {
          "base_uri": "https://localhost:8080/"
        },
        "id": "yeypZ0N2lqFq",
        "outputId": "61b56a7f-28f9-4116-a1a5-e27fec52b48b"
      },
      "execution_count": null,
      "outputs": [
        {
          "output_type": "execute_result",
          "data": {
            "text/plain": [
              "Parameter containing:\n",
              "tensor([[-0.6661, -0.1387]], requires_grad=True)"
            ]
          },
          "metadata": {},
          "execution_count": 44
        }
      ]
    },
    {
      "cell_type": "code",
      "source": [
        "model2 = torch.nn.Linear(in_features=2, out_features=1, bias=True)"
      ],
      "metadata": {
        "id": "2vApnFjwltvV"
      },
      "execution_count": null,
      "outputs": []
    },
    {
      "cell_type": "code",
      "source": [
        "model2"
      ],
      "metadata": {
        "colab": {
          "base_uri": "https://localhost:8080/"
        },
        "id": "eyTOsuijl7Sa",
        "outputId": "2650d850-ad51-4d77-b132-4a521f182f37"
      },
      "execution_count": null,
      "outputs": [
        {
          "output_type": "execute_result",
          "data": {
            "text/plain": [
              "Linear(in_features=2, out_features=1, bias=True)"
            ]
          },
          "metadata": {},
          "execution_count": 46
        }
      ]
    },
    {
      "cell_type": "code",
      "source": [
        "model2.weight"
      ],
      "metadata": {
        "colab": {
          "base_uri": "https://localhost:8080/"
        },
        "id": "vSQ1iOFSl9HY",
        "outputId": "03974859-12ac-4e5c-8ce4-d8741cde77fa"
      },
      "execution_count": null,
      "outputs": [
        {
          "output_type": "execute_result",
          "data": {
            "text/plain": [
              "Parameter containing:\n",
              "tensor([[-0.3396, -0.1886]], requires_grad=True)"
            ]
          },
          "metadata": {},
          "execution_count": 47
        }
      ]
    },
    {
      "cell_type": "markdown",
      "metadata": {
        "id": "fz0E6uU2HigY"
      },
      "source": [
        "### Verificando a inicialização dos parâmetros"
      ]
    },
    {
      "cell_type": "code",
      "execution_count": null,
      "metadata": {
        "ExecuteTime": {
          "end_time": "2017-11-23T23:50:37.418969Z",
          "start_time": "2017-11-23T23:50:37.409713Z"
        },
        "colab": {
          "base_uri": "https://localhost:8080/"
        },
        "id": "aKnVpTrnHigZ",
        "outputId": "da282704-cbe5-42ec-db17-7b888bde9cc1"
      },
      "outputs": [
        {
          "output_type": "stream",
          "name": "stderr",
          "text": [
            "<ipython-input-48-69eb5c804267>:3: FutureWarning: `nn.init.uniform` is now deprecated in favor of `nn.init.uniform_`.\n",
            "  torch.nn.init.uniform(model.weight.data, -0.1, 0.1)\n"
          ]
        },
        {
          "output_type": "execute_result",
          "data": {
            "text/plain": [
              "Parameter containing:\n",
              "tensor([[ 0.0401, -0.0896]], requires_grad=True)"
            ]
          },
          "metadata": {},
          "execution_count": 48
        }
      ],
      "source": [
        "#É possível alterar o valor de model.weight\n",
        "model.weight.data = torch.zeros(1,2)\n",
        "torch.nn.init.uniform(model.weight.data, -0.1, 0.1)\n",
        "model.weight"
      ]
    },
    {
      "cell_type": "markdown",
      "metadata": {
        "id": "mq22EwyFHigc"
      },
      "source": [
        "### Testando o predict da rede"
      ]
    },
    {
      "cell_type": "code",
      "execution_count": null,
      "metadata": {
        "ExecuteTime": {
          "end_time": "2017-11-23T23:50:37.497945Z",
          "start_time": "2017-11-23T23:50:37.422209Z"
        },
        "colab": {
          "base_uri": "https://localhost:8080/"
        },
        "id": "dyCO8PL_Hige",
        "outputId": "faadd46c-ab29-4e6f-df41-b54150eb85c9"
      },
      "outputs": [
        {
          "output_type": "execute_result",
          "data": {
            "text/plain": [
              "tensor([[1., 1.],\n",
              "        [1., 1.],\n",
              "        [1., 1.],\n",
              "        [1., 1.],\n",
              "        [1., 1.]])"
            ]
          },
          "metadata": {},
          "execution_count": 49
        }
      ],
      "source": [
        "xx = torch.ones((5,2))\n",
        "xx"
      ]
    },
    {
      "cell_type": "code",
      "execution_count": null,
      "metadata": {
        "colab": {
          "base_uri": "https://localhost:8080/"
        },
        "id": "kpxZmYMsJF7F",
        "outputId": "b541c5f2-ff8f-45b3-db76-b0dc7d211c2c"
      },
      "outputs": [
        {
          "output_type": "execute_result",
          "data": {
            "text/plain": [
              "tensor([[-0.0495],\n",
              "        [-0.0495],\n",
              "        [-0.0495],\n",
              "        [-0.0495],\n",
              "        [-0.0495]], grad_fn=<MmBackward0>)"
            ]
          },
          "metadata": {},
          "execution_count": 50
        }
      ],
      "source": [
        "model(Variable(xx))"
      ]
    },
    {
      "cell_type": "markdown",
      "metadata": {
        "id": "llozQQShHigg"
      },
      "source": [
        "## Treinamento"
      ]
    },
    {
      "cell_type": "code",
      "source": [
        "model.weight"
      ],
      "metadata": {
        "colab": {
          "base_uri": "https://localhost:8080/"
        },
        "id": "DLVjS2650mK9",
        "outputId": "346aa57a-92d5-4182-867b-b48f3e3ed282"
      },
      "execution_count": null,
      "outputs": [
        {
          "output_type": "execute_result",
          "data": {
            "text/plain": [
              "Parameter containing:\n",
              "tensor([[ 0.0401, -0.0896]], requires_grad=True)"
            ]
          },
          "metadata": {},
          "execution_count": 51
        }
      ]
    },
    {
      "cell_type": "code",
      "execution_count": null,
      "metadata": {
        "ExecuteTime": {
          "end_time": "2017-11-23T23:50:37.534983Z",
          "start_time": "2017-11-23T23:50:37.501215Z"
        },
        "colab": {
          "base_uri": "https://localhost:8080/"
        },
        "id": "GEY2W_eaHigh",
        "outputId": "8bfb1620-b555-4984-d7a1-e7af23aa64f3",
        "scrolled": false
      },
      "outputs": [
        {
          "output_type": "stream",
          "name": "stdout",
          "text": [
            "Epoch[20/100], loss: 0.023766\n",
            "Epoch[40/100], loss: 0.021545\n",
            "Epoch[60/100], loss: 0.021224\n",
            "Epoch[80/100], loss: 0.021177\n",
            "Epoch[100/100], loss: 0.021171\n"
          ]
        }
      ],
      "source": [
        "num_epochs = 100\n",
        "learning_rate = 0.5\n",
        "for epoch in range(num_epochs):\n",
        "    inputs = Variable(x_train_bias)\n",
        "    target = Variable(y_train)\n",
        "\n",
        "    # forward - predict\n",
        "    y_pred = model(x_train_bias)\n",
        "\n",
        "    #loss cálculo da função de perda\n",
        "    loss = torch.mean((y_pred - y_train)**2)\n",
        "\n",
        "    #Não precisa fazer o código do backpropagation\n",
        "    # backward propagation - cálculo gradient\n",
        "    loss.backward()\n",
        "\n",
        "    # gradiente descendente\n",
        "    model.weight.data = model.weight.data - learning_rate * model.weight.grad.data\n",
        "\n",
        "    # zeragem parâmetros próximo cálculo do gradiente\n",
        "    model.weight.grad.data.zero_()\n",
        "\n",
        "    # verbose\n",
        "    if (epoch+1) % 20 == 0:\n",
        "        print('Epoch[{}/{}], loss: {:.6f}'\n",
        "              .format(epoch+1, num_epochs, loss.data))"
      ]
    },
    {
      "cell_type": "markdown",
      "metadata": {
        "heading_collapsed": true,
        "id": "OyUB8WAmHigk"
      },
      "source": [
        "## Avaliação"
      ]
    },
    {
      "cell_type": "code",
      "execution_count": null,
      "metadata": {
        "ExecuteTime": {
          "end_time": "2017-11-23T23:50:37.785652Z",
          "start_time": "2017-11-23T23:50:37.538639Z"
        },
        "hidden": true,
        "id": "9ire-2nCHigl",
        "outputId": "c746342a-c5e0-44ba-96f4-4910fd64f2ea",
        "colab": {
          "base_uri": "https://localhost:8080/",
          "height": 430
        }
      },
      "outputs": [
        {
          "output_type": "display_data",
          "data": {
            "text/plain": [
              "<Figure size 640x480 with 1 Axes>"
            ],
            "image/png": "[encoded data removed]"
          },
          "metadata": {}
        }
      ],
      "source": [
        "y_pred = model(Variable(x_train_bias))\n",
        "plt.plot(x_train, y_train.numpy(), 'ro', label='Original data')\n",
        "plt.plot(x_train, y_pred.data.numpy(), 'kx-', label='Fitting Line')\n",
        "plt.show()"
      ]
    },
    {
      "cell_type": "markdown",
      "metadata": {
        "hidden": true,
        "id": "-jQncN7PHigp"
      },
      "source": [
        "### Acessando os parâmetros"
      ]
    },
    {
      "cell_type": "code",
      "execution_count": null,
      "metadata": {
        "ExecuteTime": {
          "end_time": "2017-11-23T23:50:37.797767Z",
          "start_time": "2017-11-23T23:50:37.787839Z"
        },
        "hidden": true,
        "id": "byxPWYlFHigq",
        "outputId": "e45e40f0-0768-4c25-d5f4-cc010b92d8dc",
        "colab": {
          "base_uri": "https://localhost:8080/"
        }
      },
      "outputs": [
        {
          "output_type": "execute_result",
          "data": {
            "text/plain": [
              "OrderedDict([('weight', tensor([[0.2635, 0.6823]]))])"
            ]
          },
          "metadata": {},
          "execution_count": 54
        }
      ],
      "source": [
        "w_dic = model.state_dict()\n",
        "w_dic"
      ]
    },
    {
      "cell_type": "code",
      "source": [
        "model.weight"
      ],
      "metadata": {
        "colab": {
          "base_uri": "https://localhost:8080/"
        },
        "id": "1XXU5wEvnO1M",
        "outputId": "e39a8f43-9ae5-4917-a81b-16a9371f4cf4"
      },
      "execution_count": null,
      "outputs": [
        {
          "output_type": "execute_result",
          "data": {
            "text/plain": [
              "Parameter containing:\n",
              "tensor([[0.2635, 0.6823]], requires_grad=True)"
            ]
          },
          "metadata": {},
          "execution_count": 55
        }
      ]
    },
    {
      "cell_type": "markdown",
      "metadata": {
        "hidden": true,
        "id": "mGK_1QtNHigw"
      },
      "source": [
        "### Parâmetros ótimos, solução analítica"
      ]
    },
    {
      "cell_type": "code",
      "execution_count": null,
      "metadata": {
        "ExecuteTime": {
          "end_time": "2017-11-23T23:50:37.809980Z",
          "start_time": "2017-11-23T23:50:37.800833Z"
        },
        "hidden": true,
        "id": "5jrFm0pXHigx",
        "outputId": "7ff72ca7-a755-48fa-a966-5c3cf4fdf462",
        "colab": {
          "base_uri": "https://localhost:8080/"
        }
      },
      "outputs": [
        {
          "output_type": "stream",
          "name": "stdout",
          "text": [
            "tensor([[0.2613, 0.6865]])\n"
          ]
        }
      ],
      "source": [
        "x_bias = x_train_bias\n",
        "y = y_train\n",
        "x_bias_t = torch.t(x_bias)\n",
        "w_opt = (torch.inverse(x_bias_t.mm(x_bias)).mm(x_bias_t)).mm(y)\n",
        "print(torch.t(w_opt))"
      ]
    },
    {
      "cell_type": "markdown",
      "metadata": {
        "collapsed": true,
        "heading_collapsed": true,
        "id": "AmTLHbBcHig3"
      },
      "source": [
        "# Exercícios"
      ]
    },
    {
      "cell_type": "markdown",
      "metadata": {
        "hidden": true,
        "id": "0826M7y0Hig5"
      },
      "source": [
        "- 1) Por que no final da varredura do laço de treinamento, a perda é impressa utilizando\n",
        "   `loss.data`? Por que precisa do `data`? R.: Porque é uma variable. O *loss.data* está acessando o valor numérico bruto, desconectado do grafo de cálculo.\n",
        "   "
      ]
    },
    {
      "cell_type": "markdown",
      "metadata": {
        "hidden": true,
        "id": "cUhiv-56Hig5"
      },
      "source": [
        "- 2) Calcule e imprima o valor da perda (MSE) fazendo o predict da rede com os pesos já\n",
        "   treinados."
      ]
    },
    {
      "cell_type": "code",
      "source": [
        "#Rodei a celula de laço e relacionados [57], [60] e [64] antes\n",
        "y_pred = model(x_train_bias)\n",
        "\n",
        "mse_loss = torch.mean((y_pred - y_train)**2)\n",
        "\n",
        "print('MSE final:', mse_loss.data)"
      ],
      "metadata": {
        "colab": {
          "base_uri": "https://localhost:8080/"
        },
        "id": "qwu60alFqJ5B",
        "outputId": "ac023613-511c-4cea-eea9-17715d98ebaf"
      },
      "execution_count": null,
      "outputs": [
        {
          "output_type": "stream",
          "name": "stdout",
          "text": [
            "MSE final: tensor(0.0212)\n"
          ]
        }
      ]
    },
    {
      "cell_type": "markdown",
      "metadata": {
        "hidden": true,
        "id": "pwrS4OGkHig7"
      },
      "source": [
        "- 3) Crie duas listas `w0_list` e `w1_list` para guardar a evolução dos valores dos\n",
        "   parâmetros durante o laço de treinamento.\n",
        "   Modifique o exemplo do gráfico tipo **scatter plot** para visualizar a variação\n",
        "   dos parâmetros do modelo duas dimensões.\n",
        "   Marque neste gráfico o valor ótimo do parâmetro dado pela solução\n",
        "   analítica."
      ]
    },
    {
      "cell_type": "code",
      "source": [
        "model = torch.nn.Linear(in_features=2, out_features=1, bias=False)\n",
        "w0_list = w1_list = []\n",
        "num_epochs = 100\n",
        "learning_rate = 0.5\n",
        "w1_list.append(model.weight.data[0,1])\n",
        "w0_list.append(model.weight.data[0,0])\n",
        "for epoch in range(num_epochs):\n",
        "    inputs = Variable(x_train_bias)\n",
        "    target = Variable(y_train)\n",
        "\n",
        "    # forward - predict\n",
        "    y_pred = model(x_train_bias)\n",
        "\n",
        "    #loss cálculo da função de perda\n",
        "    loss = torch.mean((y_pred - y_train)**2)\n",
        "\n",
        "    #Não precisa fazer o código do backpropagation\n",
        "    # backward propagation - cálculo gradient\n",
        "    loss.backward()\n",
        "\n",
        "    # gradiente descendente\n",
        "    model.weight.data = model.weight.data - learning_rate * model.weight.grad.data\n",
        "    w1_list.append(model.weight.data[0,1])\n",
        "    w0_list.append(model.weight.data[0,0])\n",
        "\n",
        "    # zeragem parâmetros próximo cálculo do gradiente\n",
        "    model.weight.grad.data.zero_()\n",
        "\n",
        "    # verbose\n",
        "    if (epoch+1) % 20 == 0:\n",
        "        print('Epoch[{}/{}], loss: {:.6f}'\n",
        "              .format(epoch+1, num_epochs, loss.data))"
      ],
      "metadata": {
        "colab": {
          "base_uri": "https://localhost:8080/"
        },
        "id": "w9At8roG2OmO",
        "outputId": "e1c44c3f-982a-4531-bead-124c75328c7b"
      },
      "execution_count": null,
      "outputs": [
        {
          "output_type": "stream",
          "name": "stdout",
          "text": [
            "Epoch[20/100], loss: 0.021428\n",
            "Epoch[40/100], loss: 0.021207\n",
            "Epoch[60/100], loss: 0.021175\n",
            "Epoch[80/100], loss: 0.021170\n",
            "Epoch[100/100], loss: 0.021170\n"
          ]
        }
      ]
    },
    {
      "cell_type": "code",
      "source": [
        "w0_list"
      ],
      "metadata": {
        "colab": {
          "base_uri": "https://localhost:8080/"
        },
        "id": "dVS9PmkPRL7F",
        "outputId": "3da784c1-57cb-4cc5-a538-c2b88f7cc235"
      },
      "execution_count": null,
      "outputs": [
        {
          "output_type": "execute_result",
          "data": {
            "text/plain": [
              "[tensor(0.3887),\n",
              " tensor(0.0892),\n",
              " tensor(0.5637),\n",
              " tensor(0.4082),\n",
              " tensor(0.5284),\n",
              " tensor(0.3219),\n",
              " tensor(0.5464),\n",
              " tensor(0.3393),\n",
              " tensor(0.5503),\n",
              " tensor(0.3305),\n",
              " tensor(0.5574),\n",
              " tensor(0.3285),\n",
              " tensor(0.5633),\n",
              " tensor(0.3250),\n",
              " tensor(0.5692),\n",
              " tensor(0.3221),\n",
              " tensor(0.5747),\n",
              " tensor(0.3192),\n",
              " tensor(0.5800),\n",
              " tensor(0.3165),\n",
              " tensor(0.5850),\n",
              " tensor(0.3139),\n",
              " tensor(0.5898),\n",
              " tensor(0.3114),\n",
              " tensor(0.5943),\n",
              " tensor(0.3091),\n",
              " tensor(0.5987),\n",
              " tensor(0.3068),\n",
              " tensor(0.6028),\n",
              " tensor(0.3047),\n",
              " tensor(0.6068),\n",
              " tensor(0.3026),\n",
              " tensor(0.6105),\n",
              " tensor(0.3007),\n",
              " tensor(0.6141),\n",
              " tensor(0.2988),\n",
              " tensor(0.6175),\n",
              " tensor(0.2970),\n",
              " tensor(0.6208),\n",
              " tensor(0.2954),\n",
              " tensor(0.6239),\n",
              " tensor(0.2938),\n",
              " tensor(0.6268),\n",
              " tensor(0.2922),\n",
              " tensor(0.6296),\n",
              " tensor(0.2908),\n",
              " tensor(0.6323),\n",
              " tensor(0.2894),\n",
              " tensor(0.6349),\n",
              " tensor(0.2881),\n",
              " tensor(0.6373),\n",
              " tensor(0.2868),\n",
              " tensor(0.6396),\n",
              " tensor(0.2856),\n",
              " tensor(0.6418),\n",
              " tensor(0.2845),\n",
              " tensor(0.6439),\n",
              " tensor(0.2834),\n",
              " tensor(0.6459),\n",
              " tensor(0.2823),\n",
              " tensor(0.6478),\n",
              " tensor(0.2813),\n",
              " tensor(0.6497),\n",
              " tensor(0.2804),\n",
              " tensor(0.6514),\n",
              " tensor(0.2795),\n",
              " tensor(0.6531),\n",
              " tensor(0.2786),\n",
              " tensor(0.6546),\n",
              " tensor(0.2778),\n",
              " tensor(0.6561),\n",
              " tensor(0.2770),\n",
              " tensor(0.6576),\n",
              " tensor(0.2763),\n",
              " tensor(0.6589),\n",
              " tensor(0.2756),\n",
              " tensor(0.6602),\n",
              " tensor(0.2749),\n",
              " tensor(0.6615),\n",
              " tensor(0.2743),\n",
              " tensor(0.6626),\n",
              " tensor(0.2737),\n",
              " tensor(0.6638),\n",
              " tensor(0.2731),\n",
              " tensor(0.6648),\n",
              " tensor(0.2725),\n",
              " tensor(0.6659),\n",
              " tensor(0.2720),\n",
              " tensor(0.6668),\n",
              " tensor(0.2715),\n",
              " tensor(0.6678),\n",
              " tensor(0.2710),\n",
              " tensor(0.6686),\n",
              " tensor(0.2706),\n",
              " tensor(0.6695),\n",
              " tensor(0.2701),\n",
              " tensor(0.6703),\n",
              " tensor(0.2697),\n",
              " tensor(0.6710),\n",
              " tensor(0.2693),\n",
              " tensor(0.6718),\n",
              " tensor(0.2690),\n",
              " tensor(0.6725),\n",
              " tensor(0.2686),\n",
              " tensor(0.6731),\n",
              " tensor(0.2683),\n",
              " tensor(0.6738),\n",
              " tensor(0.2679),\n",
              " tensor(0.6744),\n",
              " tensor(0.2676),\n",
              " tensor(0.6749),\n",
              " tensor(0.2673),\n",
              " tensor(0.6755),\n",
              " tensor(0.2670),\n",
              " tensor(0.6760),\n",
              " tensor(0.2668),\n",
              " tensor(0.6765),\n",
              " tensor(0.2665),\n",
              " tensor(0.6770),\n",
              " tensor(0.2663),\n",
              " tensor(0.6774),\n",
              " tensor(0.2660),\n",
              " tensor(0.6778),\n",
              " tensor(0.2658),\n",
              " tensor(0.6782),\n",
              " tensor(0.2656),\n",
              " tensor(0.6786),\n",
              " tensor(0.2654),\n",
              " tensor(0.6790),\n",
              " tensor(0.2652),\n",
              " tensor(0.6793),\n",
              " tensor(0.2650),\n",
              " tensor(0.6797),\n",
              " tensor(0.2649),\n",
              " tensor(0.6800),\n",
              " tensor(0.2647),\n",
              " tensor(0.6803),\n",
              " tensor(0.2645),\n",
              " tensor(0.6806),\n",
              " tensor(0.2644),\n",
              " tensor(0.6809),\n",
              " tensor(0.2642),\n",
              " tensor(0.6811),\n",
              " tensor(0.2641),\n",
              " tensor(0.6814),\n",
              " tensor(0.2640),\n",
              " tensor(0.6816),\n",
              " tensor(0.2638),\n",
              " tensor(0.6819),\n",
              " tensor(0.2637),\n",
              " tensor(0.6821),\n",
              " tensor(0.2636),\n",
              " tensor(0.6823),\n",
              " tensor(0.2635),\n",
              " tensor(0.6825),\n",
              " tensor(0.2634),\n",
              " tensor(0.6827),\n",
              " tensor(0.2633),\n",
              " tensor(0.6828),\n",
              " tensor(0.2632),\n",
              " tensor(0.6830),\n",
              " tensor(0.2631),\n",
              " tensor(0.6832),\n",
              " tensor(0.2630),\n",
              " tensor(0.6833),\n",
              " tensor(0.2630),\n",
              " tensor(0.6835),\n",
              " tensor(0.2629),\n",
              " tensor(0.6836),\n",
              " tensor(0.2628),\n",
              " tensor(0.6838),\n",
              " tensor(0.2627),\n",
              " tensor(0.6839),\n",
              " tensor(0.2627),\n",
              " tensor(0.6840),\n",
              " tensor(0.2626),\n",
              " tensor(0.6841),\n",
              " tensor(0.2626),\n",
              " tensor(0.6842),\n",
              " tensor(0.2625),\n",
              " tensor(0.6843),\n",
              " tensor(0.2624),\n",
              " tensor(0.6844),\n",
              " tensor(0.2624),\n",
              " tensor(0.6845),\n",
              " tensor(0.2623),\n",
              " tensor(0.6846),\n",
              " tensor(0.2623),\n",
              " tensor(0.6847),\n",
              " tensor(0.2622),\n",
              " tensor(0.6848),\n",
              " tensor(0.2622),\n",
              " tensor(0.6849),\n",
              " tensor(0.2622),\n",
              " tensor(0.6850),\n",
              " tensor(0.2621),\n",
              " tensor(0.6850),\n",
              " tensor(0.2621),\n",
              " tensor(0.6851),\n",
              " tensor(0.2621),\n",
              " tensor(0.6852),\n",
              " tensor(0.2620)]"
            ]
          },
          "metadata": {},
          "execution_count": 71
        }
      ]
    },
    {
      "cell_type": "code",
      "source": [
        "w1_list"
      ],
      "metadata": {
        "colab": {
          "base_uri": "https://localhost:8080/"
        },
        "id": "nHKjPvtxRNQM",
        "outputId": "9b0c2ea3-e0e0-4127-f74c-2f2808293ed1"
      },
      "execution_count": null,
      "outputs": [
        {
          "output_type": "execute_result",
          "data": {
            "text/plain": [
              "[tensor(0.3887),\n",
              " tensor(0.0892),\n",
              " tensor(0.5637),\n",
              " tensor(0.4082),\n",
              " tensor(0.5284),\n",
              " tensor(0.3219),\n",
              " tensor(0.5464),\n",
              " tensor(0.3393),\n",
              " tensor(0.5503),\n",
              " tensor(0.3305),\n",
              " tensor(0.5574),\n",
              " tensor(0.3285),\n",
              " tensor(0.5633),\n",
              " tensor(0.3250),\n",
              " tensor(0.5692),\n",
              " tensor(0.3221),\n",
              " tensor(0.5747),\n",
              " tensor(0.3192),\n",
              " tensor(0.5800),\n",
              " tensor(0.3165),\n",
              " tensor(0.5850),\n",
              " tensor(0.3139),\n",
              " tensor(0.5898),\n",
              " tensor(0.3114),\n",
              " tensor(0.5943),\n",
              " tensor(0.3091),\n",
              " tensor(0.5987),\n",
              " tensor(0.3068),\n",
              " tensor(0.6028),\n",
              " tensor(0.3047),\n",
              " tensor(0.6068),\n",
              " tensor(0.3026),\n",
              " tensor(0.6105),\n",
              " tensor(0.3007),\n",
              " tensor(0.6141),\n",
              " tensor(0.2988),\n",
              " tensor(0.6175),\n",
              " tensor(0.2970),\n",
              " tensor(0.6208),\n",
              " tensor(0.2954),\n",
              " tensor(0.6239),\n",
              " tensor(0.2938),\n",
              " tensor(0.6268),\n",
              " tensor(0.2922),\n",
              " tensor(0.6296),\n",
              " tensor(0.2908),\n",
              " tensor(0.6323),\n",
              " tensor(0.2894),\n",
              " tensor(0.6349),\n",
              " tensor(0.2881),\n",
              " tensor(0.6373),\n",
              " tensor(0.2868),\n",
              " tensor(0.6396),\n",
              " tensor(0.2856),\n",
              " tensor(0.6418),\n",
              " tensor(0.2845),\n",
              " tensor(0.6439),\n",
              " tensor(0.2834),\n",
              " tensor(0.6459),\n",
              " tensor(0.2823),\n",
              " tensor(0.6478),\n",
              " tensor(0.2813),\n",
              " tensor(0.6497),\n",
              " tensor(0.2804),\n",
              " tensor(0.6514),\n",
              " tensor(0.2795),\n",
              " tensor(0.6531),\n",
              " tensor(0.2786),\n",
              " tensor(0.6546),\n",
              " tensor(0.2778),\n",
              " tensor(0.6561),\n",
              " tensor(0.2770),\n",
              " tensor(0.6576),\n",
              " tensor(0.2763),\n",
              " tensor(0.6589),\n",
              " tensor(0.2756),\n",
              " tensor(0.6602),\n",
              " tensor(0.2749),\n",
              " tensor(0.6615),\n",
              " tensor(0.2743),\n",
              " tensor(0.6626),\n",
              " tensor(0.2737),\n",
              " tensor(0.6638),\n",
              " tensor(0.2731),\n",
              " tensor(0.6648),\n",
              " tensor(0.2725),\n",
              " tensor(0.6659),\n",
              " tensor(0.2720),\n",
              " tensor(0.6668),\n",
              " tensor(0.2715),\n",
              " tensor(0.6678),\n",
              " tensor(0.2710),\n",
              " tensor(0.6686),\n",
              " tensor(0.2706),\n",
              " tensor(0.6695),\n",
              " tensor(0.2701),\n",
              " tensor(0.6703),\n",
              " tensor(0.2697),\n",
              " tensor(0.6710),\n",
              " tensor(0.2693),\n",
              " tensor(0.6718),\n",
              " tensor(0.2690),\n",
              " tensor(0.6725),\n",
              " tensor(0.2686),\n",
              " tensor(0.6731),\n",
              " tensor(0.2683),\n",
              " tensor(0.6738),\n",
              " tensor(0.2679),\n",
              " tensor(0.6744),\n",
              " tensor(0.2676),\n",
              " tensor(0.6749),\n",
              " tensor(0.2673),\n",
              " tensor(0.6755),\n",
              " tensor(0.2670),\n",
              " tensor(0.6760),\n",
              " tensor(0.2668),\n",
              " tensor(0.6765),\n",
              " tensor(0.2665),\n",
              " tensor(0.6770),\n",
              " tensor(0.2663),\n",
              " tensor(0.6774),\n",
              " tensor(0.2660),\n",
              " tensor(0.6778),\n",
              " tensor(0.2658),\n",
              " tensor(0.6782),\n",
              " tensor(0.2656),\n",
              " tensor(0.6786),\n",
              " tensor(0.2654),\n",
              " tensor(0.6790),\n",
              " tensor(0.2652),\n",
              " tensor(0.6793),\n",
              " tensor(0.2650),\n",
              " tensor(0.6797),\n",
              " tensor(0.2649),\n",
              " tensor(0.6800),\n",
              " tensor(0.2647),\n",
              " tensor(0.6803),\n",
              " tensor(0.2645),\n",
              " tensor(0.6806),\n",
              " tensor(0.2644),\n",
              " tensor(0.6809),\n",
              " tensor(0.2642),\n",
              " tensor(0.6811),\n",
              " tensor(0.2641),\n",
              " tensor(0.6814),\n",
              " tensor(0.2640),\n",
              " tensor(0.6816),\n",
              " tensor(0.2638),\n",
              " tensor(0.6819),\n",
              " tensor(0.2637),\n",
              " tensor(0.6821),\n",
              " tensor(0.2636),\n",
              " tensor(0.6823),\n",
              " tensor(0.2635),\n",
              " tensor(0.6825),\n",
              " tensor(0.2634),\n",
              " tensor(0.6827),\n",
              " tensor(0.2633),\n",
              " tensor(0.6828),\n",
              " tensor(0.2632),\n",
              " tensor(0.6830),\n",
              " tensor(0.2631),\n",
              " tensor(0.6832),\n",
              " tensor(0.2630),\n",
              " tensor(0.6833),\n",
              " tensor(0.2630),\n",
              " tensor(0.6835),\n",
              " tensor(0.2629),\n",
              " tensor(0.6836),\n",
              " tensor(0.2628),\n",
              " tensor(0.6838),\n",
              " tensor(0.2627),\n",
              " tensor(0.6839),\n",
              " tensor(0.2627),\n",
              " tensor(0.6840),\n",
              " tensor(0.2626),\n",
              " tensor(0.6841),\n",
              " tensor(0.2626),\n",
              " tensor(0.6842),\n",
              " tensor(0.2625),\n",
              " tensor(0.6843),\n",
              " tensor(0.2624),\n",
              " tensor(0.6844),\n",
              " tensor(0.2624),\n",
              " tensor(0.6845),\n",
              " tensor(0.2623),\n",
              " tensor(0.6846),\n",
              " tensor(0.2623),\n",
              " tensor(0.6847),\n",
              " tensor(0.2622),\n",
              " tensor(0.6848),\n",
              " tensor(0.2622),\n",
              " tensor(0.6849),\n",
              " tensor(0.2622),\n",
              " tensor(0.6850),\n",
              " tensor(0.2621),\n",
              " tensor(0.6850),\n",
              " tensor(0.2621),\n",
              " tensor(0.6851),\n",
              " tensor(0.2621),\n",
              " tensor(0.6852),\n",
              " tensor(0.2620)]"
            ]
          },
          "metadata": {},
          "execution_count": 72
        }
      ]
    },
    {
      "cell_type": "markdown",
      "metadata": {
        "hidden": true,
        "id": "9zKM4-2UHig7"
      },
      "source": [
        "## Ploting vectors"
      ]
    },
    {
      "cell_type": "code",
      "execution_count": null,
      "metadata": {
        "ExecuteTime": {
          "end_time": "2017-11-23T23:57:26.723894Z",
          "start_time": "2017-11-23T23:57:26.517830Z"
        },
        "hidden": true,
        "id": "hXA1HhnsHig8",
        "outputId": "3748bedc-0abc-47bb-f569-5b05b0eeb996",
        "colab": {
          "base_uri": "https://localhost:8080/",
          "height": 430
        }
      },
      "outputs": [
        {
          "output_type": "display_data",
          "data": {
            "text/plain": [
              "<Figure size 640x480 with 1 Axes>"
            ],
            "image/png": "[encoded data removed]"
          },
          "metadata": {}
        }
      ],
      "source": [
        "# Exemplo\n",
        "#w0_list = [0.1, 0.15, 0.2, 0.3]\n",
        "#w1_list = [0.1, 0.2, 0.18, 0.3]\n",
        "plt.scatter(w0_list,w1_list)\n",
        "w0_old = None\n",
        "for (w0,w1) in zip(w0_list,w1_list):\n",
        "    if w0_old:\n",
        "        plt.arrow(w0_old, w1_old, w0-w0_old, w1-w1_old,\n",
        "                  head_length=0.01,head_width=0.01,shape='full',\n",
        "                  length_includes_head=True)\n",
        "    w0_old,w1_old = w0,w1"
      ]
    },
    {
      "cell_type": "markdown",
      "metadata": {
        "heading_collapsed": true,
        "id": "ssef368KHihA"
      },
      "source": [
        "# Aprendizados"
      ]
    },
    {
      "cell_type": "code",
      "execution_count": null,
      "metadata": {
        "hidden": true,
        "id": "CrrRGo2CHihA"
      },
      "outputs": [],
      "source": []
    }
  ],
  "metadata": {
    "accelerator": "TPU",
    "colab": {
      "provenance": [],
      "gpuType": "V28"
    },
    "kernelspec": {
      "display_name": "Python 3.10.2 64-bit",
      "language": "python",
      "name": "python3"
    },
    "language_info": {
      "name": "python",
      "version": "3.10.2"
    },
    "vscode": {
      "interpreter": {
        "hash": "5fe3e6f0cdaab8afdc61c52912fda83f7c0a71baaea1897dd7498e2df01e69ec"
      }
    }
  },
  "nbformat": 4,
  "nbformat_minor": 0
}